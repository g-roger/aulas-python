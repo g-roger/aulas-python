{
 "cells": [
  {
   "cell_type": "markdown",
   "id": "bc5fe8ae",
   "metadata": {},
   "source": [
    "# Introdução a Python"
   ]
  },
  {
   "cell_type": "code",
   "execution_count": null,
   "id": "ba9d5044",
   "metadata": {},
   "outputs": [],
   "source": [
    "print('Olá Mundo')\n",
    "print('HelloWorld')\n",
    "\n",
    "# Isso é a função de print do python e aqui é apenas um comentário"
   ]
  },
  {
   "cell_type": "markdown",
   "id": "ca603a41",
   "metadata": {},
   "source": [
    "### Desafio 00\n",
    "\n",
    "imprima o nome de um colega da turma."
   ]
  },
  {
   "cell_type": "code",
   "execution_count": null,
   "id": "2de238ec",
   "metadata": {},
   "outputs": [],
   "source": []
  },
  {
   "cell_type": "code",
   "execution_count": 1,
   "id": "89698ec3",
   "metadata": {},
   "outputs": [
    {
     "name": "stdout",
     "output_type": "stream",
     "text": [
      "30\n",
      "3\n",
      "16\n",
      "58\n",
      "5.0\n"
     ]
    }
   ],
   "source": [
    "# Conseguimos imprimir resultados\n",
    "print(10*3)\n",
    "print(5-2)\n",
    "print(2**4)\n",
    "print(10+48)\n",
    "print(10/2)"
   ]
  },
  {
   "cell_type": "markdown",
   "id": "91544312",
   "metadata": {},
   "source": [
    "## Variáveis e tipos de dados"
   ]
  },
  {
   "cell_type": "code",
   "execution_count": null,
   "id": "66ebaf1a",
   "metadata": {},
   "outputs": [],
   "source": [
    "nome = 'Gabriel'\n",
    "print('Olá, seja bem-vindo', nome)\n",
    "print(type(nome))"
   ]
  },
  {
   "cell_type": "code",
   "execution_count": null,
   "id": "c0688a35",
   "metadata": {},
   "outputs": [],
   "source": [
    "nome = 'Nat'\n",
    "print(nome)"
   ]
  },
  {
   "cell_type": "code",
   "execution_count": null,
   "id": "101e84d2",
   "metadata": {},
   "outputs": [],
   "source": [
    "altura = 1.90\n",
    "print(altura)\n",
    "print(type(altura))"
   ]
  },
  {
   "cell_type": "code",
   "execution_count": null,
   "id": "d6e68fe8",
   "metadata": {},
   "outputs": [],
   "source": [
    "ano_de_nascimento = 1994\n",
    "print(ano_de_nascimento)\n",
    "print(type(ano_de_nascimento))"
   ]
  },
  {
   "cell_type": "code",
   "execution_count": null,
   "id": "9f5fa4a5",
   "metadata": {},
   "outputs": [],
   "source": [
    "eh_bilingue = True\n",
    "print(eh_bilingue)\n",
    "print(type(eh_bilingue))"
   ]
  },
  {
   "cell_type": "code",
   "execution_count": null,
   "id": "21bede94",
   "metadata": {},
   "outputs": [],
   "source": [
    "n_imaginario = 5-8j\n",
    "print(n_imaginario)\n",
    "print(type(n_imaginario))"
   ]
  },
  {
   "cell_type": "code",
   "execution_count": null,
   "id": "38d87787",
   "metadata": {},
   "outputs": [],
   "source": [
    "print(int(4.92))\n",
    "print(float(2))\n",
    "print(str(2000))\n",
    "print(bool(True))"
   ]
  },
  {
   "cell_type": "markdown",
   "id": "0b36f823",
   "metadata": {},
   "source": [
    "| Tipo        | Descrição           | Exemplo  |\n",
    "| ------------- |:-------------:| -----:|\n",
    "| Str ou String      | Texto | \"Groger\" |\n",
    "| Float      | Número decimal      |  19000.87 |\n",
    "| Int | Inteiro      |    10 |\n",
    "| Bool | Booleano | True or False| True|\n",
    "| Complex| Complexo| 1j|"
   ]
  },
  {
   "cell_type": "markdown",
   "id": "50889b5b",
   "metadata": {},
   "source": [
    "### Desafio 01\n",
    "\n",
    "Crie uma variável com o nome da sua área, quantidade de pessoas, seu salário desejado e finalmente uma variável booleana chamada eh_programador recebendo True ou False. Imprima todos os resultados e seus tipos."
   ]
  },
  {
   "cell_type": "markdown",
   "id": "41de36fb",
   "metadata": {},
   "source": [
    "## Input, Concatenação e Casting"
   ]
  },
  {
   "cell_type": "code",
   "execution_count": null,
   "id": "c2dc1ac3",
   "metadata": {},
   "outputs": [],
   "source": [
    "nome = input('Digite seu nome: ')\n",
    "print('Que legal, você tem um belo nome', nome)\n",
    "print('\\n')\n",
    "sobrenome = input('Digite seu sobrenome: ')\n",
    "print('Que legal, você tem um belo sobrenome', sobrenome)\n",
    "print('\\n')\n",
    "nome_completo = nome + ' ' + sobrenome\n",
    "print('Seu nome completo é: ', nome_completo)"
   ]
  },
  {
   "cell_type": "markdown",
   "id": "044fd8a6",
   "metadata": {},
   "source": [
    "### Desafio 02"
   ]
  },
  {
   "cell_type": "markdown",
   "id": "bb5f4ee4",
   "metadata": {},
   "source": [
    "Crie um algoritmo que tenha como entrada o nome e ano de nascimento de uma pessoa, e retorne o texto abaixo fazendo o cálculo de sua idade:\n",
    "\n",
    "\n",
    "```\n",
    "Olá Maria, você é de 1994 e sua idade é de 27 anos.\n",
    "```"
   ]
  },
  {
   "cell_type": "code",
   "execution_count": null,
   "id": "08b6a183",
   "metadata": {},
   "outputs": [],
   "source": []
  },
  {
   "cell_type": "markdown",
   "id": "79977a08",
   "metadata": {},
   "source": [
    "## Strings"
   ]
  },
  {
   "cell_type": "code",
   "execution_count": null,
   "id": "8773be24",
   "metadata": {},
   "outputs": [],
   "source": [
    "texto = \"\"\"\n",
    "A National Aeronautics and Space Administration (NASA) ou Administração Nacional da Aeronáutica e Espaço é uma agência do Governo Federal dos Estados Unidos responsável pela pesquisa e desenvolvimento de tecnologias e programas de exploração espacial. Sua missão oficial é \"fomentar o futuro na pesquisa, descoberta e exploração espacial\". A NASA foi criada em 29 de julho de 1958, substituindo seu antecessor, o NACA - National Advisory Committee for Aeronautics (Comitê Consultivo Nacional para a Aeronáutica).\n",
    "\n",
    "A NASA foi a responsável pelo envio do homem à Lua (veja projeto Apollo) e por diversos outros programas de pesquisa no espaço. Atualmente ela trabalha em conjunto com a Agência Espacial Europeia, com a Agência Espacial Federal Russa e com alguns países da Ásia para a criação da Estação Espacial Internacional.\n",
    "\n",
    "A NASA também tem desenvolvido vários programas com satélites e com sondas de pesquisa espacial que viajaram até outros planetas e até, alguns deles, se preparam para sair do nosso sistema solar, sendo a próxima grande meta, que tem atraído a atenção de todos, uma viagem tripulada até o planeta Marte, nosso vizinho.\n",
    "\n",
    "A ciência da NASA está focada numa melhor compreensão da Terra através do Earth Observing System, na promoção da heliofísica através do trabalho do Heliophysics Research Program, na exploração do sistema solar com missões robóticas avançadas, tais como New Horizons, e na pesquisa astrofísica, aprofundando-se em tópicos como o Big Bang com o auxílio de grandes observatórios.\n",
    "\"\"\""
   ]
  },
  {
   "cell_type": "code",
   "execution_count": null,
   "id": "85fa947e",
   "metadata": {},
   "outputs": [],
   "source": [
    "print(texto)"
   ]
  },
  {
   "cell_type": "code",
   "execution_count": null,
   "id": "4fe378b9",
   "metadata": {},
   "outputs": [],
   "source": [
    "texto.count('NASA')"
   ]
  },
  {
   "cell_type": "code",
   "execution_count": null,
   "id": "1f57b0f9",
   "metadata": {},
   "outputs": [],
   "source": [
    "len(texto)"
   ]
  },
  {
   "cell_type": "code",
   "execution_count": null,
   "id": "3d23b2e3",
   "metadata": {},
   "outputs": [],
   "source": [
    "texto = texto.replace('NASA', 'Nasa')"
   ]
  },
  {
   "cell_type": "code",
   "execution_count": null,
   "id": "92492202",
   "metadata": {},
   "outputs": [],
   "source": [
    "print(texto)"
   ]
  },
  {
   "cell_type": "code",
   "execution_count": null,
   "id": "574c33f4",
   "metadata": {},
   "outputs": [],
   "source": [
    "texto.count('NASA')"
   ]
  },
  {
   "cell_type": "code",
   "execution_count": null,
   "id": "3dd5d845",
   "metadata": {},
   "outputs": [],
   "source": [
    "texto.count('Nasa')"
   ]
  },
  {
   "cell_type": "code",
   "execution_count": null,
   "id": "db7c05dd",
   "metadata": {},
   "outputs": [],
   "source": [
    "texto.index('ciência')"
   ]
  },
  {
   "cell_type": "code",
   "execution_count": null,
   "id": "8eb7062d",
   "metadata": {},
   "outputs": [],
   "source": [
    "palavra = 'Lua'"
   ]
  },
  {
   "cell_type": "code",
   "execution_count": null,
   "id": "76789865",
   "metadata": {},
   "outputs": [],
   "source": [
    "palavra.upper()"
   ]
  },
  {
   "cell_type": "code",
   "execution_count": null,
   "id": "9e54edb1",
   "metadata": {},
   "outputs": [],
   "source": [
    "palavra.lower()"
   ]
  },
  {
   "cell_type": "code",
   "execution_count": null,
   "id": "839d0001",
   "metadata": {},
   "outputs": [],
   "source": [
    "palavra in texto"
   ]
  },
  {
   "cell_type": "code",
   "execution_count": null,
   "id": "3dfd57cf",
   "metadata": {},
   "outputs": [],
   "source": [
    "texto.count(palavra)"
   ]
  },
  {
   "cell_type": "markdown",
   "id": "eeecac5a",
   "metadata": {},
   "source": [
    "### Desafio 3\n",
    "\n",
    "\n",
    "#### Texto\n",
    "\n",
    "Brasil, oficialmente República Federativa do Brasil é o maior país da América do Sul e da região da América Latina, sendo o quinto maior do mundo em área territorial (equivalente a 47 porcento do território sul-americano) e sexto em população (com mais de 200 milhões de habitantes). É o único país na América onde se fala majoritariamente a língua portuguesa e o maior país lusófono do planeta, além de ser uma das nações mais multiculturais e etnicamente diversas, em decorrência da forte imigração oriunda de variados locais do mundo."
   ]
  },
  {
   "cell_type": "markdown",
   "id": "aa549779",
   "metadata": {},
   "source": [
    "A partir de um novo texto, traga os dados básicos como:\n",
    "\n",
    "- Quantidade de caracteres\n",
    "- Quantidade de cada vogal no texto\n",
    "- Quantas vezes aparece a palavra América no texto\n",
    "\n",
    "Depois, substítua Brasil por BRASIL."
   ]
  },
  {
   "cell_type": "code",
   "execution_count": null,
   "id": "9f66a2d0",
   "metadata": {},
   "outputs": [],
   "source": []
  },
  {
   "cell_type": "code",
   "execution_count": null,
   "id": "a9f06871",
   "metadata": {},
   "outputs": [],
   "source": []
  },
  {
   "cell_type": "code",
   "execution_count": null,
   "id": "ad4125a2",
   "metadata": {},
   "outputs": [],
   "source": []
  },
  {
   "cell_type": "code",
   "execution_count": null,
   "id": "ba993f26",
   "metadata": {},
   "outputs": [],
   "source": []
  },
  {
   "cell_type": "code",
   "execution_count": null,
   "id": "243ccd57",
   "metadata": {},
   "outputs": [],
   "source": []
  },
  {
   "cell_type": "code",
   "execution_count": null,
   "id": "0d219874",
   "metadata": {},
   "outputs": [],
   "source": []
  },
  {
   "cell_type": "markdown",
   "id": "8038180e",
   "metadata": {},
   "source": [
    "## Exercícios lógicos em grupo"
   ]
  },
  {
   "cell_type": "markdown",
   "id": "5b7eae9b",
   "metadata": {},
   "source": [
    "1) Faça um programa que leia duas notas de um aluno e imprima na tela sua média."
   ]
  },
  {
   "cell_type": "code",
   "execution_count": null,
   "id": "7dd1ebb9",
   "metadata": {},
   "outputs": [],
   "source": []
  },
  {
   "cell_type": "code",
   "execution_count": null,
   "id": "be587042",
   "metadata": {},
   "outputs": [],
   "source": []
  },
  {
   "cell_type": "markdown",
   "id": "671eb576",
   "metadata": {},
   "source": [
    "2) Faça um programa que receba um valor em metros e o exiba convertido para centímetros e milímetros."
   ]
  },
  {
   "cell_type": "code",
   "execution_count": null,
   "id": "fcd185cb",
   "metadata": {},
   "outputs": [],
   "source": []
  },
  {
   "cell_type": "code",
   "execution_count": null,
   "id": "ec93858f",
   "metadata": {},
   "outputs": [],
   "source": []
  },
  {
   "cell_type": "markdown",
   "id": "1d98803f",
   "metadata": {},
   "source": [
    "3) Faça um programa que receba um valor em real e converta para dólar"
   ]
  },
  {
   "cell_type": "code",
   "execution_count": null,
   "id": "453ac1c5",
   "metadata": {},
   "outputs": [],
   "source": []
  },
  {
   "cell_type": "code",
   "execution_count": null,
   "id": "837c3ddd",
   "metadata": {},
   "outputs": [],
   "source": []
  },
  {
   "cell_type": "markdown",
   "id": "8c32e994",
   "metadata": {},
   "source": [
    "4) Faça um programa que cálcule a área de um círculo.\n",
    "\n",
    "$area = \\pi*r^2$\n"
   ]
  },
  {
   "cell_type": "code",
   "execution_count": null,
   "id": "1ea1aa6c",
   "metadata": {},
   "outputs": [],
   "source": []
  },
  {
   "cell_type": "code",
   "execution_count": null,
   "id": "410ff3df",
   "metadata": {},
   "outputs": [],
   "source": []
  }
 ],
 "metadata": {
  "kernelspec": {
   "display_name": "Python 3",
   "language": "python",
   "name": "python3"
  },
  "language_info": {
   "codemirror_mode": {
    "name": "ipython",
    "version": 3
   },
   "file_extension": ".py",
   "mimetype": "text/x-python",
   "name": "python",
   "nbconvert_exporter": "python",
   "pygments_lexer": "ipython3",
   "version": "3.8.8"
  }
 },
 "nbformat": 4,
 "nbformat_minor": 5
}
