{
 "cells": [
  {
   "cell_type": "markdown",
   "id": "5a188b56",
   "metadata": {},
   "source": [
    "# Laços de repetição: FOR"
   ]
  },
  {
   "cell_type": "markdown",
   "id": "e421ab40",
   "metadata": {},
   "source": [
    "Vamos criar um programa que calcule números de uma tabuada"
   ]
  },
  {
   "cell_type": "code",
   "execution_count": 1,
   "id": "2525b1ed",
   "metadata": {},
   "outputs": [
    {
     "name": "stdout",
     "output_type": "stream",
     "text": [
      "Qual tabuada você deseja calcular?5\n",
      "5 X 0 = 0\n",
      "5 X 1 = 5\n",
      "5 X 2 = 10\n",
      "5 X 3 = 15\n",
      "5 X 4 = 20\n",
      "5 X 5 = 25\n",
      "5 X 6 = 30\n",
      "5 X 7 = 35\n",
      "5 X 8 = 40\n",
      "5 X 9 = 45\n",
      "5 X 10 = 50\n"
     ]
    }
   ],
   "source": [
    "valor = int(input('Qual tabuada você deseja calcular?'))\n",
    "\n",
    "print(valor, 'X', 0, '=', valor*0)\n",
    "print(valor, 'X', 1, '=', valor*1)\n",
    "print(valor, 'X', 2, '=', valor*2)\n",
    "print(valor, 'X', 3, '=', valor*3)\n",
    "print(valor, 'X', 4, '=', valor*4)\n",
    "print(valor, 'X', 5, '=', valor*5)\n",
    "print(valor, 'X', 6, '=', valor*6)\n",
    "print(valor, 'X', 7, '=', valor*7)\n",
    "print(valor, 'X', 8, '=', valor*8)\n",
    "print(valor, 'X', 9, '=', valor*9)\n",
    "print(valor, 'X', 10, '=', valor*10)\n",
    "\n",
    "\n"
   ]
  },
  {
   "cell_type": "markdown",
   "id": "cf1dbcd3",
   "metadata": {},
   "source": [
    "É a maneira mais eficiente? \n",
    "- no dia a dia existem problemas que precisamos lidar como esse"
   ]
  },
  {
   "cell_type": "markdown",
   "id": "8c5d506e",
   "metadata": {},
   "source": [
    "Vamos usar um laço de repetição para 'repetir' o que simplesmente se **repete** e se **incrementa**"
   ]
  },
  {
   "cell_type": "markdown",
   "id": "a83c089a",
   "metadata": {},
   "source": [
    "A estrutura do for no python é sempre desta forma:\n",
    "```\n",
    "    para cada_valor no conjunto_de_dados:\n",
    "        fazer algo com cada_valor\n",
    "```"
   ]
  },
  {
   "cell_type": "code",
   "execution_count": 3,
   "id": "2cadf80e",
   "metadata": {},
   "outputs": [
    {
     "name": "stdout",
     "output_type": "stream",
     "text": [
      "Qual tabuada você deseja calcular?5\n",
      "5 X 0 = 0\n",
      "5 X 1 = 5\n",
      "5 X 2 = 10\n",
      "5 X 3 = 15\n",
      "5 X 4 = 20\n",
      "5 X 5 = 25\n",
      "5 X 6 = 30\n",
      "5 X 7 = 35\n",
      "5 X 8 = 40\n",
      "5 X 9 = 45\n",
      "5 X 10 = 50\n"
     ]
    }
   ],
   "source": [
    "valor = int(input('Qual tabuada você deseja calcular?'))\n",
    "\n",
    "for i in range(0, 11):\n",
    "    print(valor, 'X', i, '=', valor*i)\n"
   ]
  },
  {
   "cell_type": "markdown",
   "id": "9fbe4453",
   "metadata": {},
   "source": [
    "Quando usamos o range, ele cria um conjunto de valores (0, 1, 2, 3 ...)"
   ]
  },
  {
   "cell_type": "code",
   "execution_count": 4,
   "id": "15c59563",
   "metadata": {},
   "outputs": [
    {
     "data": {
      "text/plain": [
       "range(10, 1000000)"
      ]
     },
     "execution_count": 4,
     "metadata": {},
     "output_type": "execute_result"
    }
   ],
   "source": [
    "range(10, 1000000)"
   ]
  },
  {
   "cell_type": "markdown",
   "id": "a3ed9f3d",
   "metadata": {},
   "source": [
    "Conseguimos também percorrer uma lista dentro do for"
   ]
  },
  {
   "cell_type": "code",
   "execution_count": 6,
   "id": "2cf261a8",
   "metadata": {},
   "outputs": [
    {
     "name": "stdout",
     "output_type": "stream",
     "text": [
      "abacate\n",
      "amoeba\n",
      "1\n",
      "True\n"
     ]
    }
   ],
   "source": [
    "for valor in ['abacate', 'amoeba', 1, True]:\n",
    "    print(valor)"
   ]
  },
  {
   "cell_type": "markdown",
   "id": "23171733",
   "metadata": {},
   "source": [
    "## Desafio 0"
   ]
  },
  {
   "cell_type": "markdown",
   "id": "b31c8247",
   "metadata": {},
   "source": [
    "Crie uma lista de nomes e percorra ela com for.\n",
    "\n",
    "O objetivo final é cada nome aparecer com a posição e um rótulo, por exemplo:\n",
    "\n",
    "```\n",
    "1º nome: Natally\n",
    "2º nome: Fabiano\n",
    "3º nome: Kamila\n",
    "```"
   ]
  },
  {
   "cell_type": "code",
   "execution_count": 7,
   "id": "defba5ac",
   "metadata": {},
   "outputs": [
    {
     "name": "stdout",
     "output_type": "stream",
     "text": [
      "1 º nome: Natally\n",
      "2 º nome: Fabiano\n",
      "3 º nome: Kamila\n"
     ]
    }
   ],
   "source": []
  },
  {
   "cell_type": "code",
   "execution_count": null,
   "id": "bd00addc",
   "metadata": {},
   "outputs": [],
   "source": []
  },
  {
   "cell_type": "markdown",
   "id": "1a81d285",
   "metadata": {},
   "source": [
    "## Desafio 1\n",
    "\n",
    "Crie esses dicionários abaixo:\n",
    "    \n",
    "```\n",
    "produto = {\n",
    "    'valor': 860.90,\n",
    "    'nome': 'smart watch'\n",
    "}\n",
    "\n",
    "produto_2 = {\n",
    "    'valor': 4300.90,\n",
    "    'nome': 'Notebook dell'\n",
    "}```\n",
    "\n",
    "Coloque ambos em uma lista e utilizando for, percorra a lista e o resultado final deve ser:\n",
    "\n",
    "```\n",
    "produto: smart watch, valor final:  865.9\n",
    "produto: Notebook dell, valor final:  4300.9\n",
    "``` \n",
    "\n",
    "obs: todo produto que o valor é menor que 1000.0 reais, é acrescentado 5.0 reais de frete"
   ]
  },
  {
   "cell_type": "code",
   "execution_count": 10,
   "id": "9d3f6077",
   "metadata": {},
   "outputs": [
    {
     "name": "stdout",
     "output_type": "stream",
     "text": [
      "produto: smart watch valor final:  865.9\n",
      "produto: Notebook dell valor final:  4300.9\n"
     ]
    }
   ],
   "source": []
  },
  {
   "cell_type": "markdown",
   "id": "63cbbe86",
   "metadata": {},
   "source": [
    "# Laços de repetição: While"
   ]
  },
  {
   "cell_type": "markdown",
   "id": "38942b3d",
   "metadata": {},
   "source": [
    "No while é criado uma condição na sua estrutura\n",
    "\n",
    "```\n",
    "    enquanto condição\n",
    "        execute o que você quiser\n",
    "```"
   ]
  },
  {
   "cell_type": "code",
   "execution_count": 12,
   "id": "fde0ce68",
   "metadata": {},
   "outputs": [
    {
     "name": "stdout",
     "output_type": "stream",
     "text": [
      "digite seu nome: groger\n",
      ":)\n",
      "digite seu nome: groger\n",
      ":)\n",
      "digite seu nome: oi\n"
     ]
    }
   ],
   "source": [
    "nome = input('digite seu nome: ')\n",
    "\n",
    "while nome == 'groger':\n",
    "    print(':)')\n",
    "    nome = input('digite seu nome: ')\n"
   ]
  },
  {
   "cell_type": "markdown",
   "id": "d1d61e8f",
   "metadata": {},
   "source": [
    "## DESAFIO 2"
   ]
  },
  {
   "cell_type": "markdown",
   "id": "ae0bd4f4",
   "metadata": {},
   "source": [
    "Vamos criar um programa que um usuário pode digitar um valor 3 vezes e no final mostre a soma dos mesmos"
   ]
  },
  {
   "cell_type": "code",
   "execution_count": 19,
   "id": "350e9592",
   "metadata": {},
   "outputs": [
    {
     "name": "stdout",
     "output_type": "stream",
     "text": [
      "valor 1 :10\n",
      "valor 2 :20\n",
      "valor 3 :30\n",
      "A soma é  60.0\n"
     ]
    }
   ],
   "source": []
  },
  {
   "cell_type": "markdown",
   "id": "cac63af3",
   "metadata": {},
   "source": [
    "## DESAFIO 3\n",
    "Faça um programa que leia o sexo de uma pessoa, mas só aceite os valores M, F ou Outro. Caso esteja errado, peça a digitação novamente até ter um valor correto."
   ]
  },
  {
   "cell_type": "code",
   "execution_count": 24,
   "id": "94335ed6",
   "metadata": {},
   "outputs": [
    {
     "name": "stdout",
     "output_type": "stream",
     "text": [
      "Digite o seu gênero: \n",
      "'F' para feminino \n",
      "'M' para masculino\n",
      "'O' para outro: \n",
      "soa\n",
      "Dados inválidos. Tente novamente.\n",
      "Digite o seu gênero: \n",
      "'F' para feminino \n",
      "'M' para masculino\n",
      "'O' para outro: \n",
      "M\n",
      "Cadastro realizado com sucesso!\n"
     ]
    }
   ],
   "source": []
  },
  {
   "cell_type": "markdown",
   "id": "3e4b5d5e",
   "metadata": {},
   "source": [
    "# Funções"
   ]
  },
  {
   "cell_type": "markdown",
   "id": "7e173742",
   "metadata": {},
   "source": [
    "Podemos organizar nossos códigos para serem chamados mais de uma vez, assim não precisamos escrever tudo de novo"
   ]
  },
  {
   "cell_type": "markdown",
   "id": "33bb153c",
   "metadata": {},
   "source": [
    "A sintaxe de funções é:\n",
    "\n",
    "```\n",
    "    def nome da função (parametros):\n",
    "        variavel = o que voce quer fazer\n",
    "        retornar variavel\n",
    "        ``` "
   ]
  },
  {
   "cell_type": "code",
   "execution_count": 25,
   "id": "5648bcc4",
   "metadata": {},
   "outputs": [],
   "source": [
    "# Vamos criar uma função que some três valores\n",
    "\n",
    "def somar_tres_valores(valor_1, valor_2, valor_3):\n",
    "    soma = valor_1 + valor_2 + valor_3\n",
    "    return soma"
   ]
  },
  {
   "cell_type": "code",
   "execution_count": 26,
   "id": "671d2e00",
   "metadata": {},
   "outputs": [
    {
     "name": "stdout",
     "output_type": "stream",
     "text": [
      "80\n"
     ]
    }
   ],
   "source": [
    "# Para chamar a função criada, faça como o código abaixo:\n",
    "\n",
    "print(somar_tres_valores(10, 30, 40))"
   ]
  },
  {
   "cell_type": "code",
   "execution_count": 27,
   "id": "64cc6178",
   "metadata": {},
   "outputs": [],
   "source": [
    "# Uma função pode ter um print e não possuir retorno (não é indicado)\n",
    "\n",
    "def somar_tres_valores(valor_1, valor_2, valor_3):\n",
    "    soma = valor_1 + valor_2 + valor_3\n",
    "    print(soma)"
   ]
  },
  {
   "cell_type": "code",
   "execution_count": 28,
   "id": "57d8e0c8",
   "metadata": {},
   "outputs": [
    {
     "name": "stdout",
     "output_type": "stream",
     "text": [
      "78\n"
     ]
    }
   ],
   "source": [
    "somar_tres_valores(10, 29, 39)"
   ]
  },
  {
   "cell_type": "markdown",
   "id": "282c0e65",
   "metadata": {},
   "source": [
    "# Desafio 4\n",
    "\n",
    "Crie uma função que solicite um valor e retorne a tabuada do mesmo até o 10.\n",
    "\n",
    "obs:\n",
    "- Pode ser uma função sem retorno e com print\n",
    "- Lembre-se que nome de função se inicia com verbo\n"
   ]
  },
  {
   "cell_type": "code",
   "execution_count": 29,
   "id": "1f56b2f9",
   "metadata": {},
   "outputs": [],
   "source": []
  },
  {
   "cell_type": "code",
   "execution_count": 30,
   "id": "f3012f47",
   "metadata": {},
   "outputs": [
    {
     "name": "stdout",
     "output_type": "stream",
     "text": [
      "2 X 0 = 0\n",
      "2 X 1 = 2\n",
      "2 X 2 = 4\n",
      "2 X 3 = 6\n",
      "2 X 4 = 8\n",
      "2 X 5 = 10\n",
      "2 X 6 = 12\n",
      "2 X 7 = 14\n",
      "2 X 8 = 16\n",
      "2 X 9 = 18\n",
      "2 X 10 = 20\n"
     ]
    }
   ],
   "source": [
    "calcular_tabuada(2)"
   ]
  },
  {
   "cell_type": "code",
   "execution_count": 31,
   "id": "784e3be1",
   "metadata": {},
   "outputs": [
    {
     "name": "stdout",
     "output_type": "stream",
     "text": [
      "39 X 0 = 0\n",
      "39 X 1 = 39\n",
      "39 X 2 = 78\n",
      "39 X 3 = 117\n",
      "39 X 4 = 156\n",
      "39 X 5 = 195\n",
      "39 X 6 = 234\n",
      "39 X 7 = 273\n",
      "39 X 8 = 312\n",
      "39 X 9 = 351\n",
      "39 X 10 = 390\n"
     ]
    }
   ],
   "source": [
    "calcular_tabuada(39)"
   ]
  },
  {
   "cell_type": "markdown",
   "id": "ac82d97d",
   "metadata": {},
   "source": [
    "## Desafio 5\n",
    "\n",
    "Crie 4 funções \n",
    "\n",
    "- sacar\n",
    "- extrato\n",
    "- depositar\n",
    "- executar atm\n",
    "\n",
    "Ao chamar a função executar atm o usuário terá algumas opções como:\n",
    "\n",
    "- tecle 1 para sacar seu dinheiro\n",
    "- tecle 2 para extrato do seu dinheiro\n",
    "- tecle 3 para depositar seu dinheiro\n",
    "- tecle 4 para sair\n",
    "\n",
    "Lembre-se que para sacar não poderá ser um valor maior que seu saldo e para depositar não pode ser um valor maior que 1000 reais\n",
    "\n",
    "crie novas regras se sentir falta enquanto estiver desenvolvendo o seu código"
   ]
  },
  {
   "cell_type": "code",
   "execution_count": 40,
   "id": "e6ccffe9",
   "metadata": {},
   "outputs": [],
   "source": []
  },
  {
   "cell_type": "code",
   "execution_count": 47,
   "id": "6ca7ca99",
   "metadata": {},
   "outputs": [],
   "source": [
    "def sacar(saldo, valor_de_saque):\n",
    "    return\n",
    "\n",
    "def depositar(saldo, valor_de_deposito):\n",
    "    return \n",
    "\n",
    "def extrato():\n",
    "\n",
    "\n",
    "def executar_atm():\n",
    "    saldo = float(input('digite um valor para simular seu saldo maior que 0'))\n",
    "    opcao = None\n"
   ]
  },
  {
   "cell_type": "code",
   "execution_count": 1,
   "id": "55b7ab01",
   "metadata": {},
   "outputs": [
    {
     "ename": "NameError",
     "evalue": "name 'executar_atm' is not defined",
     "output_type": "error",
     "traceback": [
      "\u001b[1;31m---------------------------------------------------------------------------\u001b[0m",
      "\u001b[1;31mNameError\u001b[0m                                 Traceback (most recent call last)",
      "\u001b[1;32m<ipython-input-1-454bfb3e93eb>\u001b[0m in \u001b[0;36m<module>\u001b[1;34m\u001b[0m\n\u001b[1;32m----> 1\u001b[1;33m \u001b[0mexecutar_atm\u001b[0m\u001b[1;33m(\u001b[0m\u001b[1;33m)\u001b[0m\u001b[1;33m\u001b[0m\u001b[1;33m\u001b[0m\u001b[0m\n\u001b[0m",
      "\u001b[1;31mNameError\u001b[0m: name 'executar_atm' is not defined"
     ]
    }
   ],
   "source": [
    "executar_atm()"
   ]
  },
  {
   "cell_type": "code",
   "execution_count": null,
   "id": "f74f42bc",
   "metadata": {},
   "outputs": [],
   "source": []
  }
 ],
 "metadata": {
  "kernelspec": {
   "display_name": "Python 3",
   "language": "python",
   "name": "python3"
  },
  "language_info": {
   "codemirror_mode": {
    "name": "ipython",
    "version": 3
   },
   "file_extension": ".py",
   "mimetype": "text/x-python",
   "name": "python",
   "nbconvert_exporter": "python",
   "pygments_lexer": "ipython3",
   "version": "3.8.8"
  }
 },
 "nbformat": 4,
 "nbformat_minor": 5
}
