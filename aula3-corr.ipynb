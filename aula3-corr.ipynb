{
 "cells": [
  {
   "cell_type": "markdown",
   "id": "538d9470",
   "metadata": {},
   "source": [
    "# Bibliotecas\n",
    "\n",
    "algumas referências:\n",
    "\n",
    "https://pypi.org/\n",
    "\n",
    "https://docs.python.org/3/library/math.html\n",
    "\n",
    "https://pandas.pydata.org/\n",
    "\n",
    "https://docs.python.org/3/library/statistics.html\n",
    "\n",
    "https://numpy.org/\n",
    "\n",
    "https://seaborn.pydata.org/\n",
    "\n",
    "Uma dica para o estudo das bibliotecas é estar sempre por dentro das documentações.\n"
   ]
  },
  {
   "cell_type": "markdown",
   "id": "3f628b21",
   "metadata": {},
   "source": [
    "Vamos importar uma biblioteca chamada random, para estudar números aleatórios"
   ]
  },
  {
   "cell_type": "code",
   "execution_count": 2,
   "id": "2b6e4a14",
   "metadata": {},
   "outputs": [
    {
     "name": "stdout",
     "output_type": "stream",
     "text": [
      "180\n"
     ]
    }
   ],
   "source": [
    "# importando a biblioteca random e todas as suas funcões\n",
    "import random\n",
    "\n",
    "print(random.randint(19, 229))"
   ]
  },
  {
   "cell_type": "code",
   "execution_count": 3,
   "id": "d700e69f",
   "metadata": {},
   "outputs": [
    {
     "name": "stdout",
     "output_type": "stream",
     "text": [
      "3\n"
     ]
    }
   ],
   "source": [
    "# importando apenas a função randint\n",
    "\n",
    "from random import randint\n",
    "\n",
    "print(randint(1, 10))"
   ]
  },
  {
   "cell_type": "code",
   "execution_count": 4,
   "id": "6bf55ca4",
   "metadata": {},
   "outputs": [
    {
     "name": "stdout",
     "output_type": "stream",
     "text": [
      "2\n"
     ]
    }
   ],
   "source": [
    "# Álias para uma biblioteca\n",
    "\n",
    "import random as rd\n",
    "\n",
    "print(rd.randint(1,20))"
   ]
  },
  {
   "cell_type": "markdown",
   "id": "6f4365fc",
   "metadata": {},
   "source": [
    "## Desafio 0\n",
    "\n",
    "importe a biblioteca statistics e dê o alias chamado de stat. Após sua importação, chame algumas funções de stat para visualizar como está a distribuição dos dados.\n",
    "\n",
    "A saída deve ser parecida com essa:\n",
    "\n",
    "```\n",
    "MODA: 6\n",
    "MÉDIA: 4\n",
    "MENOR VALOR: 0\n",
    "QUARTIS: [2.0, 4.0, 7.0]\n",
    "MEDIANA: 4.0\n",
    "MAIOR VALOR: 9\n",
    "DESVIO PADRÃO: 2.8284271247461903\n",
    "VARIANÇA: 8\n",
    "QTD DE VALORES: 600\n",
    "```"
   ]
  },
  {
   "cell_type": "code",
   "execution_count": 2,
   "id": "f22d1542",
   "metadata": {},
   "outputs": [],
   "source": [
    "import statistics as stat\n",
    "import numpy as np"
   ]
  },
  {
   "cell_type": "code",
   "execution_count": 21,
   "id": "b0aa2f15",
   "metadata": {},
   "outputs": [],
   "source": [
    "numbers = np.random.randint(0,10,size=[1,600])[0]"
   ]
  },
  {
   "cell_type": "code",
   "execution_count": 22,
   "id": "de2e2980",
   "metadata": {},
   "outputs": [
    {
     "name": "stdout",
     "output_type": "stream",
     "text": [
      "[7 3 1 4 9 0 4 8 6 1 3 1 7 0 5 7 1 1 7 8 8 4 4 9 8 4 3 1 1 8 6 8 8 4 6 0 9\n",
      " 8 8 3 1 3 2 0 5 7 2 0 5 9 6 0 6 0 2 6 1 2 7 8 7 2 4 3 4 7 8 0 7 6 8 6 9 6\n",
      " 7 6 2 6 0 5 0 4 2 1 2 8 3 1 2 7 5 2 5 0 0 1 0 9 3 2 8 6 7 4 8 4 9 9 1 8 3\n",
      " 3 7 7 3 6 0 4 8 3 4 8 4 5 8 6 4 5 7 9 0 3 0 9 8 2 7 3 4 5 9 1 8 6 4 8 1 8\n",
      " 3 1 9 0 2 6 6 5 1 3 6 7 4 4 1 2 8 8 9 7 4 6 0 2 9 2 3 9 5 9 2 7 5 3 6 9 1\n",
      " 8 7 4 8 1 4 2 4 0 1 4 4 7 2 3 9 5 5 3 9 1 3 3 2 6 0 4 9 3 9 9 2 0 0 4 7 1\n",
      " 0 8 1 7 4 0 7 6 3 0 5 5 0 1 0 0 8 2 9 3 5 8 6 3 8 0 3 6 0 0 1 5 5 2 1 1 8\n",
      " 0 7 7 3 9 8 6 8 7 6 8 2 8 6 5 9 6 0 3 6 9 6 7 2 3 4 5 9 8 9 4 6 5 6 5 9 8\n",
      " 1 0 7 1 1 0 1 8 6 3 8 6 9 7 4 9 6 5 5 7 6 2 6 5 8 3 2 6 1 3 0 6 2 9 3 4 3\n",
      " 7 6 0 5 9 3 8 6 9 1 0 3 2 1 1 2 6 0 4 2 8 3 7 1 9 8 0 5 4 2 6 4 7 1 6 6 0\n",
      " 7 9 9 6 3 2 6 2 8 4 1 5 6 0 2 2 3 8 9 9 5 5 3 7 1 1 6 8 4 8 3 2 6 4 5 9 5\n",
      " 6 1 4 6 0 7 1 9 8 9 0 5 2 7 4 6 0 6 1 2 4 4 6 3 8 8 1 4 2 8 4 6 3 0 1 4 6\n",
      " 2 1 7 4 6 7 2 3 4 1 3 6 3 6 9 6 1 3 0 8 2 6 0 3 2 0 1 3 6 5 1 6 8 4 8 0 5\n",
      " 7 0 8 4 2 4 9 5 8 6 7 7 4 5 8 1 1 9 9 1 3 4 2 5 2 1 5 8 7 2 7 2 4 9 5 9 1\n",
      " 1 3 5 7 9 2 2 0 9 4 2 0 6 4 8 5 0 0 8 2 1 0 5 2 0 8 3 5 8 9 8 8 9 4 0 0 7\n",
      " 0 9 1 0 6 2 2 6 1 6 6 2 7 0 2 5 9 2 2 2 6 9 4 8 7 2 1 7 7 9 2 2 7 4 5 4 5\n",
      " 1 2 5 0 4 1 0 6]\n"
     ]
    }
   ],
   "source": [
    "print(numbers)"
   ]
  },
  {
   "cell_type": "code",
   "execution_count": 29,
   "id": "3ec6b012",
   "metadata": {},
   "outputs": [
    {
     "name": "stdout",
     "output_type": "stream",
     "text": [
      "MODA: 6\n",
      "MÉDIA: 4\n",
      "MENOR VALOR: 0\n",
      "QUARTIS: [2.0, 4.0, 7.0]\n",
      "MEDIANA: 4.0\n",
      "MAIOR VALOR: 9\n",
      "DESVIO PADRÃO: 2.8284271247461903\n",
      "VARIANÇA: 8\n",
      "QTD DE VALORES: 600\n"
     ]
    }
   ],
   "source": [
    "print('MODA:', stat.mode(numbers))\n",
    "print('MÉDIA:', stat.mean(numbers))\n",
    "print('MENOR VALOR:', min(numbers))\n",
    "print('QUARTIS:', stat.quantiles(numbers))\n",
    "print('MEDIANA:', stat.median(numbers))\n",
    "print('MAIOR VALOR:', max(numbers))\n",
    "print('DESVIO PADRÃO:', stat.stdev(numbers))\n",
    "print('VARIANÇA:', stat.variance(numbers))\n",
    "print('QTD DE VALORES:', len(numbers))"
   ]
  },
  {
   "cell_type": "markdown",
   "id": "b752c43a",
   "metadata": {},
   "source": [
    "## Desafio 1\n",
    "\n",
    "Ganhe com mais ou menos pontos :)\n",
    "\n",
    "Vamos implementar um jogo simplificado de sorteio.\n",
    "\n",
    "Regras para usuário:\n",
    "- Como entrada o usuário poderá inserir um valor inteiro\n",
    "- Os números sorteados serão do 1 ao 99.\n",
    "\n",
    "Regras para máquina:\n",
    "- Sortear uma lista de 7 valores inteiros do 1 ao 99. Se o valor do usuário for igual a algum valor da máquina, aparecer que o usuário levou o prêmio, caso contrário o jogo acabou.\n",
    "\n",
    "\n",
    "Após finalizar implemente outras regras para o usuário e máquina a vontade. Use sua criatividade!\n"
   ]
  },
  {
   "cell_type": "code",
   "execution_count": 3,
   "id": "a9943500",
   "metadata": {},
   "outputs": [
    {
     "name": "stdout",
     "output_type": "stream",
     "text": [
      "Digite um valor: 10\n",
      "Números sorteados:  [97 68 60 88 22 65 67]\n",
      "seu número foi:  10\n",
      "Não foi dessa vez\n"
     ]
    }
   ],
   "source": [
    "valor = int(input('Digite um valor: '))\n",
    "numbers = np.random.randint(1,99,size=[1,7])[0]\n",
    "\n",
    "print('Números sorteados: ', numbers)\n",
    "print('seu número foi: ', valor)\n",
    "if valor in numbers:\n",
    "    print('Ganhou o prêmio!')\n",
    "else:\n",
    "    print('Não foi dessa vez')"
   ]
  },
  {
   "cell_type": "code",
   "execution_count": null,
   "id": "22f5e431",
   "metadata": {},
   "outputs": [],
   "source": []
  }
 ],
 "metadata": {
  "kernelspec": {
   "display_name": "Python 3",
   "language": "python",
   "name": "python3"
  },
  "language_info": {
   "codemirror_mode": {
    "name": "ipython",
    "version": 3
   },
   "file_extension": ".py",
   "mimetype": "text/x-python",
   "name": "python",
   "nbconvert_exporter": "python",
   "pygments_lexer": "ipython3",
   "version": "3.8.8"
  }
 },
 "nbformat": 4,
 "nbformat_minor": 5
}
