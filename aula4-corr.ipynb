{
 "cells": [
  {
   "cell_type": "markdown",
   "id": "348ed38f",
   "metadata": {},
   "source": [
    "# Laços de repetição: FOR"
   ]
  },
  {
   "cell_type": "markdown",
   "id": "8be4af98",
   "metadata": {},
   "source": [
    "Vamos criar um programa que calcule números de uma tabuada"
   ]
  },
  {
   "cell_type": "code",
   "execution_count": 1,
   "id": "55cb7c0b",
   "metadata": {},
   "outputs": [
    {
     "name": "stdout",
     "output_type": "stream",
     "text": [
      "Qual tabuada você deseja calcular?5\n",
      "5 X 0 = 0\n",
      "5 X 1 = 5\n",
      "5 X 2 = 10\n",
      "5 X 3 = 15\n",
      "5 X 4 = 20\n",
      "5 X 5 = 25\n",
      "5 X 6 = 30\n",
      "5 X 7 = 35\n",
      "5 X 8 = 40\n",
      "5 X 9 = 45\n",
      "5 X 10 = 50\n"
     ]
    }
   ],
   "source": [
    "valor = int(input('Qual tabuada você deseja calcular?'))\n",
    "\n",
    "print(valor, 'X', 0, '=', valor*0)\n",
    "print(valor, 'X', 1, '=', valor*1)\n",
    "print(valor, 'X', 2, '=', valor*2)\n",
    "print(valor, 'X', 3, '=', valor*3)\n",
    "print(valor, 'X', 4, '=', valor*4)\n",
    "print(valor, 'X', 5, '=', valor*5)\n",
    "print(valor, 'X', 6, '=', valor*6)\n",
    "print(valor, 'X', 7, '=', valor*7)\n",
    "print(valor, 'X', 8, '=', valor*8)\n",
    "print(valor, 'X', 9, '=', valor*9)\n",
    "print(valor, 'X', 10, '=', valor*10)\n",
    "\n",
    "\n"
   ]
  },
  {
   "cell_type": "markdown",
   "id": "698a4c35",
   "metadata": {},
   "source": [
    "É a maneira mais eficiente? \n",
    "- no dia a dia existem problemas que precisamos lidar como esse"
   ]
  },
  {
   "cell_type": "markdown",
   "id": "09e407d7",
   "metadata": {},
   "source": [
    "Vamos usar um laço de repetição para 'repetir' o que simplesmente se **repete** e se **incrementa**"
   ]
  },
  {
   "cell_type": "markdown",
   "id": "3ad5b318",
   "metadata": {},
   "source": [
    "A estrutura do for no python é sempre desta forma:\n",
    "```\n",
    "    para cada_valor no conjunto_de_dados:\n",
    "        fazer algo com cada_valor\n",
    "```"
   ]
  },
  {
   "cell_type": "code",
   "execution_count": 3,
   "id": "06e3fba3",
   "metadata": {},
   "outputs": [
    {
     "name": "stdout",
     "output_type": "stream",
     "text": [
      "Qual tabuada você deseja calcular?5\n",
      "5 X 0 = 0\n",
      "5 X 1 = 5\n",
      "5 X 2 = 10\n",
      "5 X 3 = 15\n",
      "5 X 4 = 20\n",
      "5 X 5 = 25\n",
      "5 X 6 = 30\n",
      "5 X 7 = 35\n",
      "5 X 8 = 40\n",
      "5 X 9 = 45\n",
      "5 X 10 = 50\n"
     ]
    }
   ],
   "source": [
    "valor = int(input('Qual tabuada você deseja calcular?'))\n",
    "\n",
    "for i in range(0, 11):\n",
    "    print(valor, 'X', i, '=', valor*i)\n"
   ]
  },
  {
   "cell_type": "markdown",
   "id": "fbf17996",
   "metadata": {},
   "source": [
    "Quando usamos o range, ele cria um conjunto de valores (0, 1, 2, 3 ...)"
   ]
  },
  {
   "cell_type": "code",
   "execution_count": 4,
   "id": "7400ce68",
   "metadata": {},
   "outputs": [
    {
     "data": {
      "text/plain": [
       "range(10, 1000000)"
      ]
     },
     "execution_count": 4,
     "metadata": {},
     "output_type": "execute_result"
    }
   ],
   "source": [
    "range(10, 1000000)"
   ]
  },
  {
   "cell_type": "markdown",
   "id": "6af35e84",
   "metadata": {},
   "source": [
    "Conseguimos também percorrer uma lista dentro do for"
   ]
  },
  {
   "cell_type": "code",
   "execution_count": 6,
   "id": "9984897e",
   "metadata": {},
   "outputs": [
    {
     "name": "stdout",
     "output_type": "stream",
     "text": [
      "abacate\n",
      "amoeba\n",
      "1\n",
      "True\n"
     ]
    }
   ],
   "source": [
    "for valor in ['abacate', 'amoeba', 1, True]:\n",
    "    print(valor)"
   ]
  },
  {
   "cell_type": "markdown",
   "id": "70f1f5db",
   "metadata": {},
   "source": [
    "## Desafio 0"
   ]
  },
  {
   "cell_type": "markdown",
   "id": "268ffa82",
   "metadata": {},
   "source": [
    "Crie uma lista de nomes e percorra ela com for.\n",
    "\n",
    "O objetivo final é cada nome aparecer com a posição e um rótulo, por exemplo:\n",
    "\n",
    "```\n",
    "1º nome: Natally\n",
    "2º nome: Fabiano\n",
    "3º nome: Kamila\n",
    "```"
   ]
  },
  {
   "cell_type": "code",
   "execution_count": 7,
   "id": "36a71701",
   "metadata": {},
   "outputs": [
    {
     "name": "stdout",
     "output_type": "stream",
     "text": [
      "1 º nome: Natally\n",
      "2 º nome: Fabiano\n",
      "3 º nome: Kamila\n"
     ]
    }
   ],
   "source": [
    "nomes = ['Natally', 'Fabiano', 'Kamila']\n",
    "\n",
    "contador = 1\n",
    "for nome in nomes:\n",
    "    print(contador, 'º nome:', nome)\n",
    "    \n",
    "    # ou pode ser contador = contador + 1\n",
    "    \n",
    "    contador += 1\n",
    "    "
   ]
  },
  {
   "cell_type": "code",
   "execution_count": null,
   "id": "68dbb5a1",
   "metadata": {},
   "outputs": [],
   "source": []
  },
  {
   "cell_type": "markdown",
   "id": "64a0bd1c",
   "metadata": {},
   "source": [
    "## Desafio 1\n",
    "\n",
    "Crie esses dicionários abaixo:\n",
    "    \n",
    "```\n",
    "produto = {\n",
    "    'valor': 860.90,\n",
    "    'nome': 'smart watch'\n",
    "}\n",
    "\n",
    "produto_2 = {\n",
    "    'valor': 4300.90,\n",
    "    'nome': 'Notebook dell'\n",
    "}```\n",
    "\n",
    "Coloque ambos em uma lista e utilizando for, percorra a lista e o resultado final deve ser:\n",
    "\n",
    "```\n",
    "produto: smart watch, valor final:  865.9\n",
    "produto: Notebook dell, valor final:  4300.9\n",
    "``` \n",
    "\n",
    "obs: todo produto que o valor é menor que 1000.0 reais, é acrescentado 5.0 reais de frete"
   ]
  },
  {
   "cell_type": "code",
   "execution_count": 10,
   "id": "38628176",
   "metadata": {},
   "outputs": [
    {
     "name": "stdout",
     "output_type": "stream",
     "text": [
      "produto: smart watch valor final:  865.9\n",
      "produto: Notebook dell valor final:  4300.9\n"
     ]
    }
   ],
   "source": [
    "produto = {\n",
    "    'valor': 860.90,\n",
    "    'nome': 'smart watch'\n",
    "}\n",
    "\n",
    "produto_2 = {\n",
    "    'valor': 4300.90,\n",
    "    'nome': 'Notebook dell'\n",
    "}\n",
    "\n",
    "produtos = [produto, produto_2]\n",
    "\n",
    "for produto in produtos:\n",
    "    if produto['valor'] < 1000.0:\n",
    "        produto['valor'] = produto['valor'] + 5.0\n",
    "        \n",
    "    print('produto:', produto['nome'], 'valor final: ', produto['valor'])"
   ]
  },
  {
   "cell_type": "markdown",
   "id": "82909b46",
   "metadata": {},
   "source": [
    "# Laços de repetição: While"
   ]
  },
  {
   "cell_type": "markdown",
   "id": "b2e1b682",
   "metadata": {},
   "source": [
    "No while é criado uma condição na sua estrutura\n",
    "\n",
    "```\n",
    "    enquanto condição\n",
    "        execute o que você quiser\n",
    "```"
   ]
  },
  {
   "cell_type": "code",
   "execution_count": 12,
   "id": "d96b78ea",
   "metadata": {},
   "outputs": [
    {
     "name": "stdout",
     "output_type": "stream",
     "text": [
      "digite seu nome: groger\n",
      ":)\n",
      "digite seu nome: groger\n",
      ":)\n",
      "digite seu nome: oi\n"
     ]
    }
   ],
   "source": [
    "nome = input('digite seu nome: ')\n",
    "\n",
    "while nome == 'groger':\n",
    "    print(':)')\n",
    "    nome = input('digite seu nome: ')\n"
   ]
  },
  {
   "cell_type": "markdown",
   "id": "028bd9f2",
   "metadata": {},
   "source": [
    "## DESAFIO 2"
   ]
  },
  {
   "cell_type": "markdown",
   "id": "16b129aa",
   "metadata": {},
   "source": [
    "Vamos criar um programa que um usuário pode digitar um valor 3 vezes e no final mostre a soma dos mesmos"
   ]
  },
  {
   "cell_type": "code",
   "execution_count": 19,
   "id": "cd6d2ad1",
   "metadata": {},
   "outputs": [
    {
     "name": "stdout",
     "output_type": "stream",
     "text": [
      "valor 1 :10\n",
      "valor 2 :20\n",
      "valor 3 :30\n",
      "A soma é  60.0\n"
     ]
    }
   ],
   "source": [
    "contador = 1\n",
    "valores = []\n",
    "\n",
    "while contador <= 3:\n",
    "    valor = float(input('valor '+ str(contador) + ' :'))\n",
    "    valores.append(valor)\n",
    "    contador += 1\n",
    "    \n",
    "print('A soma é ', sum(valores))"
   ]
  },
  {
   "cell_type": "markdown",
   "id": "378af699",
   "metadata": {},
   "source": [
    "## DESAFIO 3\n",
    "Faça um programa que leia o sexo de uma pessoa, mas só aceite os valores M, F ou Outro. Caso esteja errado, peça a digitação novamente até ter um valor correto."
   ]
  },
  {
   "cell_type": "code",
   "execution_count": 24,
   "id": "2ee72241",
   "metadata": {},
   "outputs": [
    {
     "name": "stdout",
     "output_type": "stream",
     "text": [
      "Digite o seu gênero: \n",
      "'F' para feminino \n",
      "'M' para masculino\n",
      "'O' para outro: \n",
      "soa\n",
      "Dados inválidos. Tente novamente.\n",
      "Digite o seu gênero: \n",
      "'F' para feminino \n",
      "'M' para masculino\n",
      "'O' para outro: \n",
      "M\n",
      "Cadastro realizado com sucesso!\n"
     ]
    }
   ],
   "source": [
    "genero = input('''Digite o seu gênero: \n",
    "'F' para feminino \n",
    "'M' para masculino\n",
    "'O' para outro: \\n''')\n",
    "\n",
    "while genero.upper() != \"M\" and genero.upper() != \"F\" and genero.upper() != \"O\":\n",
    "  print(\"Dados inválidos. Tente novamente.\")\n",
    "  genero = input('''Digite o seu gênero: \n",
    "'F' para feminino \n",
    "'M' para masculino\n",
    "'O' para outro: \\n''')\n",
    "print(\"Cadastro realizado com sucesso!\")"
   ]
  },
  {
   "cell_type": "markdown",
   "id": "cf11fec4",
   "metadata": {},
   "source": [
    "# Funções"
   ]
  },
  {
   "cell_type": "markdown",
   "id": "922d1904",
   "metadata": {},
   "source": [
    "Podemos organizar nossos códigos para serem chamados mais de uma vez, assim não precisamos escrever tudo de novo"
   ]
  },
  {
   "cell_type": "markdown",
   "id": "a5a19b28",
   "metadata": {},
   "source": [
    "A sintaxe de funções é:\n",
    "\n",
    "```\n",
    "    def nome da função (parametros):\n",
    "        variavel = o que voce quer fazer\n",
    "        retornar variavel\n",
    "        ``` "
   ]
  },
  {
   "cell_type": "code",
   "execution_count": 25,
   "id": "1ce40ad8",
   "metadata": {},
   "outputs": [],
   "source": [
    "# Vamos criar uma função que some três valores\n",
    "\n",
    "def somar_tres_valores(valor_1, valor_2, valor_3):\n",
    "    soma = valor_1 + valor_2 + valor_3\n",
    "    return soma"
   ]
  },
  {
   "cell_type": "code",
   "execution_count": 26,
   "id": "c0019763",
   "metadata": {},
   "outputs": [
    {
     "name": "stdout",
     "output_type": "stream",
     "text": [
      "80\n"
     ]
    }
   ],
   "source": [
    "# Para chamar a função criada, faça como o código abaixo:\n",
    "\n",
    "print(somar_tres_valores(10, 30, 40))"
   ]
  },
  {
   "cell_type": "code",
   "execution_count": 27,
   "id": "ea3d0524",
   "metadata": {},
   "outputs": [],
   "source": [
    "# Uma função pode ter um print e não possuir retorno (não é indicado)\n",
    "\n",
    "def somar_tres_valores(valor_1, valor_2, valor_3):\n",
    "    soma = valor_1 + valor_2 + valor_3\n",
    "    print(soma)"
   ]
  },
  {
   "cell_type": "code",
   "execution_count": 28,
   "id": "66017928",
   "metadata": {},
   "outputs": [
    {
     "name": "stdout",
     "output_type": "stream",
     "text": [
      "78\n"
     ]
    }
   ],
   "source": [
    "somar_tres_valores(10, 29, 39)"
   ]
  },
  {
   "cell_type": "markdown",
   "id": "e41498f6",
   "metadata": {},
   "source": [
    "# Desafio 4\n",
    "\n",
    "Crie uma função que solicite um valor e retorne a tabuada do mesmo até o 10.\n",
    "\n",
    "obs:\n",
    "- Pode ser uma função sem retorno e com print\n",
    "- Lembre-se que nome de função se inicia com verbo\n"
   ]
  },
  {
   "cell_type": "code",
   "execution_count": 29,
   "id": "c3699c0c",
   "metadata": {},
   "outputs": [],
   "source": [
    "def calcular_tabuada(valor):\n",
    "    for i in range(0, 11):\n",
    "        print(valor, 'X', i, '=', valor*i)"
   ]
  },
  {
   "cell_type": "code",
   "execution_count": 30,
   "id": "5448cbab",
   "metadata": {},
   "outputs": [
    {
     "name": "stdout",
     "output_type": "stream",
     "text": [
      "2 X 0 = 0\n",
      "2 X 1 = 2\n",
      "2 X 2 = 4\n",
      "2 X 3 = 6\n",
      "2 X 4 = 8\n",
      "2 X 5 = 10\n",
      "2 X 6 = 12\n",
      "2 X 7 = 14\n",
      "2 X 8 = 16\n",
      "2 X 9 = 18\n",
      "2 X 10 = 20\n"
     ]
    }
   ],
   "source": [
    "calcular_tabuada(2)"
   ]
  },
  {
   "cell_type": "code",
   "execution_count": 31,
   "id": "72a762de",
   "metadata": {},
   "outputs": [
    {
     "name": "stdout",
     "output_type": "stream",
     "text": [
      "39 X 0 = 0\n",
      "39 X 1 = 39\n",
      "39 X 2 = 78\n",
      "39 X 3 = 117\n",
      "39 X 4 = 156\n",
      "39 X 5 = 195\n",
      "39 X 6 = 234\n",
      "39 X 7 = 273\n",
      "39 X 8 = 312\n",
      "39 X 9 = 351\n",
      "39 X 10 = 390\n"
     ]
    }
   ],
   "source": [
    "calcular_tabuada(39)"
   ]
  },
  {
   "cell_type": "markdown",
   "id": "204ca537",
   "metadata": {},
   "source": [
    "## Desafio 5\n",
    "\n",
    "Crie 4 funções \n",
    "\n",
    "- sacar\n",
    "- extrato\n",
    "- depositar\n",
    "- executar atm\n",
    "\n",
    "Ao chamar a função executar atm o usuário terá algumas opções como:\n",
    "\n",
    "- tecle 1 para sacar seu dinheiro\n",
    "- tecle 2 para extrato do seu dinheiro\n",
    "- tecle 3 para depositar seu dinheiro\n",
    "\n",
    "Lembre-se que para sacar não poderá ser um valor maior que seu saldo e para depositar não pode ser um valor maior que 1000 reais\n",
    "\n",
    "crie novas regras se sentir falta enquanto estiver desenvolvendo o seu código"
   ]
  },
  {
   "cell_type": "code",
   "execution_count": 40,
   "id": "6553c912",
   "metadata": {},
   "outputs": [],
   "source": []
  },
  {
   "cell_type": "code",
   "execution_count": 5,
   "id": "3762be16",
   "metadata": {},
   "outputs": [],
   "source": [
    "def sacar(saldo, valor_de_saque):\n",
    "    if valor_de_saque >= 0:\n",
    "        return saldo - valor_de_saque\n",
    "\n",
    "def depositar(saldo, valor_de_deposito):\n",
    "    if valor_de_deposito <= 1000:\n",
    "        return saldo + valor_de_deposito\n",
    "    return '\n",
    "\n",
    "def extrato(saldo):\n",
    "    print('Extrato:-----', saldo)\n",
    "\n",
    "def executar_atm():\n",
    "    saldo = float(input('digite um valor para simular seu saldo maior que 0-->'))\n",
    "    opcao = 0\n",
    "    \n",
    "    while int(opcao) != 4:\n",
    "        print('digite 1 para sacar')\n",
    "        print('digite 2 para extrato')\n",
    "        print('digite 3 para deposito')\n",
    "        print('digite 4 para finalizar')\n",
    "\n",
    "        opcao = input('qual sua opcao? ')\n",
    "        \n",
    "        if int(opcao) == 1:\n",
    "            valor_saque = float(input('Qual seu valor de saque? '))\n",
    "            saldo = sacar(saldo, valor_saque)\n",
    "            print(saldo)\n",
    "        elif int(opcao) == 2:\n",
    "            extrato(saldo)\n",
    "        elif int(opcao) == 3:\n",
    "            valor_deposito = float(input('Qual seu valor de deposito? '))\n",
    "            saldo = sacar(saldo, valor_deposito)\n",
    "            print(saldo)\n",
    "        else:\n",
    "            print(\"Opção inválida. Tente novamente.\")\n",
    "    \n",
    "    print('Obrigado por vir ao banco!')\n",
    "\n"
   ]
  },
  {
   "cell_type": "code",
   "execution_count": null,
   "id": "3d42bc02",
   "metadata": {},
   "outputs": [
    {
     "name": "stdout",
     "output_type": "stream",
     "text": [
      "digite um valor para simular seu saldo maior que 0-->100\n",
      "digite 1 para sacar\n",
      "digite 2 para extrato\n",
      "digite 3 para deposito\n",
      "digite 4 para finalizar\n",
      "qual sua opcao? 1\n",
      "Qual seu valor de saque? 10\n",
      "90.0\n",
      "digite 1 para sacar\n",
      "digite 2 para extrato\n",
      "digite 3 para deposito\n",
      "digite 4 para finalizar\n",
      "qual sua opcao? 2\n",
      "Extrato:----- 90.0\n",
      "digite 1 para sacar\n",
      "digite 2 para extrato\n",
      "digite 3 para deposito\n",
      "digite 4 para finalizar\n",
      "qual sua opcao? 3\n",
      "Qual seu valor de deposito? 100\n",
      "-10.0\n",
      "digite 1 para sacar\n",
      "digite 2 para extrato\n",
      "digite 3 para deposito\n",
      "digite 4 para finalizar\n"
     ]
    }
   ],
   "source": [
    "executar_atm()"
   ]
  },
  {
   "cell_type": "code",
   "execution_count": null,
   "id": "19910c56",
   "metadata": {},
   "outputs": [],
   "source": []
  }
 ],
 "metadata": {
  "kernelspec": {
   "display_name": "Python 3",
   "language": "python",
   "name": "python3"
  },
  "language_info": {
   "codemirror_mode": {
    "name": "ipython",
    "version": 3
   },
   "file_extension": ".py",
   "mimetype": "text/x-python",
   "name": "python",
   "nbconvert_exporter": "python",
   "pygments_lexer": "ipython3",
   "version": "3.8.8"
  }
 },
 "nbformat": 4,
 "nbformat_minor": 5
}
