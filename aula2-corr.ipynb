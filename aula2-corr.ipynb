{
 "cells": [
  {
   "cell_type": "markdown",
   "id": "d0f3a48f",
   "metadata": {},
   "source": [
    "# Estruturas de dados"
   ]
  },
  {
   "cell_type": "markdown",
   "id": "398cdb21",
   "metadata": {},
   "source": [
    "Abaixo estamos criando uma lista com 8 elementos"
   ]
  },
  {
   "cell_type": "markdown",
   "id": "a033db49",
   "metadata": {},
   "source": [
    "### Listas"
   ]
  },
  {
   "cell_type": "code",
   "execution_count": null,
   "id": "742b92ea",
   "metadata": {},
   "outputs": [],
   "source": [
    "alunos = ['Carol', 'Natália', 'Gabriel Roger', 'Bruno', 'Diandra', 'Ana', 'Nicolas', 'Camila']"
   ]
  },
  {
   "cell_type": "markdown",
   "id": "764a6f80",
   "metadata": {},
   "source": [
    "Assim que imprimimos a lista vemos que a lista aparece separada por vírgula cada um de seus elementos"
   ]
  },
  {
   "cell_type": "code",
   "execution_count": null,
   "id": "240c689b",
   "metadata": {},
   "outputs": [],
   "source": [
    "print(alunos)"
   ]
  },
  {
   "cell_type": "markdown",
   "id": "49250293",
   "metadata": {},
   "source": [
    "Vamos conferir se realmente possuem 8 elementos"
   ]
  },
  {
   "cell_type": "code",
   "execution_count": null,
   "id": "61e9a22d",
   "metadata": {},
   "outputs": [],
   "source": [
    "print(len(alunos))"
   ]
  },
  {
   "cell_type": "markdown",
   "id": "f208eef9",
   "metadata": {},
   "source": [
    "Uma lista pode ser heterogênea"
   ]
  },
  {
   "cell_type": "code",
   "execution_count": null,
   "id": "b523d200",
   "metadata": {},
   "outputs": [],
   "source": [
    "itens = ['texto', 150, 2.6, True, 1j, ['X', 'Y', 12, 20], {'nome': 'Gabriel'}]"
   ]
  },
  {
   "cell_type": "code",
   "execution_count": null,
   "id": "24f7ff93",
   "metadata": {},
   "outputs": [],
   "source": [
    "print(itens)"
   ]
  },
  {
   "cell_type": "markdown",
   "id": "5bc6722b",
   "metadata": {},
   "source": [
    "é possivel cria uma lista com qualquer tipo de dado, inclusive lista de listas"
   ]
  },
  {
   "cell_type": "markdown",
   "id": "55139a5b",
   "metadata": {},
   "source": [
    "Podemos adicionar um novo elemento na lista"
   ]
  },
  {
   "cell_type": "code",
   "execution_count": null,
   "id": "df999168",
   "metadata": {},
   "outputs": [],
   "source": [
    "alunos.append('Fábio')"
   ]
  },
  {
   "cell_type": "code",
   "execution_count": null,
   "id": "3ceb3b49",
   "metadata": {},
   "outputs": [],
   "source": [
    "print('Lista de alunos:', alunos, 'com a quantidade de', len(alunos), 'elementos.')"
   ]
  },
  {
   "cell_type": "markdown",
   "id": "44049291",
   "metadata": {},
   "source": [
    "ou remover um elemento"
   ]
  },
  {
   "cell_type": "code",
   "execution_count": null,
   "id": "e5b3cfc7",
   "metadata": {},
   "outputs": [],
   "source": [
    "alunos.remove('Fábio')"
   ]
  },
  {
   "cell_type": "code",
   "execution_count": null,
   "id": "743a373f",
   "metadata": {},
   "outputs": [],
   "source": [
    "print(alunos)"
   ]
  },
  {
   "cell_type": "markdown",
   "id": "fd0c687e",
   "metadata": {},
   "source": [
    "Para acessar um elemento utilizamos índices. Lembrando que python começa com o índice 0 no primeiro elemento."
   ]
  },
  {
   "cell_type": "code",
   "execution_count": null,
   "id": "49e2f01e",
   "metadata": {},
   "outputs": [],
   "source": [
    "print(alunos[0])"
   ]
  },
  {
   "cell_type": "code",
   "execution_count": null,
   "id": "bde530ef",
   "metadata": {},
   "outputs": [],
   "source": [
    "print(alunos[2])"
   ]
  },
  {
   "cell_type": "markdown",
   "id": "d5e252ac",
   "metadata": {},
   "source": [
    "Para Modificarmos um elemento, acessamos seu índice e sobrescrevemos como se fosse uma variável comum"
   ]
  },
  {
   "cell_type": "code",
   "execution_count": null,
   "id": "f751a552",
   "metadata": {},
   "outputs": [],
   "source": [
    "alunos[3] = 'Gustavo'"
   ]
  },
  {
   "cell_type": "code",
   "execution_count": null,
   "id": "c5789bea",
   "metadata": {},
   "outputs": [],
   "source": [
    "print(alunos)"
   ]
  },
  {
   "cell_type": "markdown",
   "id": "ae6f3946",
   "metadata": {},
   "source": [
    "### Dicionários\n",
    "\n",
    "A estrutura de um dicionário é baseada em chave e valor"
   ]
  },
  {
   "cell_type": "code",
   "execution_count": 1,
   "id": "fdc121d4",
   "metadata": {},
   "outputs": [],
   "source": [
    "funcionario = {\n",
    "    'nome': 'Jonas',\n",
    "    'setor': 'TI',\n",
    "    'idade': 50,\n",
    "    'valor_hora': 50,\n",
    "    'ativo': True\n",
    "}"
   ]
  },
  {
   "cell_type": "code",
   "execution_count": null,
   "id": "dbc92d43",
   "metadata": {},
   "outputs": [],
   "source": [
    "print(funcionario)"
   ]
  },
  {
   "cell_type": "code",
   "execution_count": null,
   "id": "4e210dbe",
   "metadata": {},
   "outputs": [],
   "source": [
    "print(funcionario['nome'])"
   ]
  },
  {
   "cell_type": "markdown",
   "id": "be803611",
   "metadata": {},
   "source": [
    "## Desafio 0"
   ]
  },
  {
   "cell_type": "markdown",
   "id": "bf74459d",
   "metadata": {},
   "source": [
    "Através do dicionário acima, cálcule o sálario dos últimos 30 dias trabalhados por Jonas e crie um novo campo em funcionário salvando essa informação. \n",
    "\n",
    "dica: Utilize a chave **valor_hora**\n",
    "\n",
    "sua saída deve ser dessa forma:\n",
    "\n",
    "{'nome': 'Jonas', 'setor': 'TI', 'idade': 50, 'valor_hora': 50, 'ativo': True, **'salario': 1500**}\n",
    "\n",
    "\n"
   ]
  },
  {
   "cell_type": "code",
   "execution_count": 2,
   "id": "be4e73ce",
   "metadata": {},
   "outputs": [
    {
     "name": "stdout",
     "output_type": "stream",
     "text": [
      "{'nome': 'Jonas', 'setor': 'TI', 'idade': 50, 'valor_hora': 50, 'ativo': True, 'salario': 1500}\n"
     ]
    }
   ],
   "source": [
    "funcionario['salario'] = funcionario['valor_hora'] * 30\n",
    "print(funcionario)"
   ]
  },
  {
   "cell_type": "markdown",
   "id": "4762f158",
   "metadata": {},
   "source": [
    "Crie uma lista chamada produtos e dentro dela, coloquei dois produtos. Sua saída deve ser dessa forma:\n",
    "\n",
    "[{'nome': 'bolacha', 'marca': 'trakinas', 'preco': 5.4}, {'nome': 'biscoito de polvilho', 'marca': 'globo', 'preco': 6.3}]\n"
   ]
  },
  {
   "cell_type": "code",
   "execution_count": 3,
   "id": "7be3e3bc",
   "metadata": {},
   "outputs": [],
   "source": [
    "produtos = [\n",
    "    {\n",
    "        'nome': 'bolacha',\n",
    "        'marca': 'trakinas',\n",
    "        'preco': 5.40\n",
    "    },\n",
    "    {\n",
    "        'nome': 'biscoito de polvilho',\n",
    "        'marca': 'globo',\n",
    "        'preco': 6.30\n",
    "    }\n",
    "]"
   ]
  },
  {
   "cell_type": "code",
   "execution_count": 4,
   "id": "8d1e081a",
   "metadata": {},
   "outputs": [
    {
     "name": "stdout",
     "output_type": "stream",
     "text": [
      "[{'nome': 'bolacha', 'marca': 'trakinas', 'preco': 5.4}, {'nome': 'biscoito de polvilho', 'marca': 'globo', 'preco': 6.3}]\n"
     ]
    }
   ],
   "source": [
    "print(produtos)"
   ]
  },
  {
   "cell_type": "markdown",
   "id": "c46512c6",
   "metadata": {},
   "source": [
    "# Operadores Booleanos"
   ]
  },
  {
   "cell_type": "markdown",
   "id": "9f39bddb",
   "metadata": {},
   "source": [
    "| operador        | Descrição           | Exemplo  |\n",
    "| ------------- |:-------------:| -----:|\n",
    "| ==      | igual | 1 == '1' |\n",
    "| !=      | Não igual (diferente) |  'Azul' != 'azul'|\n",
    "| > | Maior  |    11 > len('inferência')|\n",
    "| < | Menor| -28 < -2|\n",
    "| >= | Maior ou igual | len('groger@mastertech.com.br') >= 2|\n",
    "| <= | Menor ou igual | 3 <= 3 |\n",
    "| is | identidade do objeto igual'| nome is None|\n",
    "| is not | identidade do objeto não igual'| nome is not None|\n",
    "| in | está entre| 'gabriel' in nomes|\n",
    "| not in| não está entre| 'gabriel' not in nomes|\n",
    "| and | e | 1 == 1 and 2 == 3 |\n",
    "| or  | ou| 1 == 1 or 2 == 3 |"
   ]
  },
  {
   "cell_type": "code",
   "execution_count": null,
   "id": "f70c06f8",
   "metadata": {},
   "outputs": [],
   "source": [
    "1 == '1'"
   ]
  },
  {
   "cell_type": "code",
   "execution_count": null,
   "id": "a581e4ab",
   "metadata": {},
   "outputs": [],
   "source": [
    "'Azul' != 'azul'"
   ]
  },
  {
   "cell_type": "code",
   "execution_count": null,
   "id": "36896834",
   "metadata": {},
   "outputs": [],
   "source": [
    "11 > len('inferência')"
   ]
  },
  {
   "cell_type": "code",
   "execution_count": null,
   "id": "6eb71836",
   "metadata": {},
   "outputs": [],
   "source": [
    "-28 < -2"
   ]
  },
  {
   "cell_type": "code",
   "execution_count": null,
   "id": "7d4d31aa",
   "metadata": {},
   "outputs": [],
   "source": [
    "len('groger@mastertech.com.br') >= 2"
   ]
  },
  {
   "cell_type": "code",
   "execution_count": null,
   "id": "764ff23f",
   "metadata": {},
   "outputs": [],
   "source": [
    "3 <= 3\n"
   ]
  },
  {
   "cell_type": "code",
   "execution_count": null,
   "id": "aec91ce5",
   "metadata": {},
   "outputs": [],
   "source": [
    "nome = None\n",
    "print(nome is None)"
   ]
  },
  {
   "cell_type": "code",
   "execution_count": null,
   "id": "dabbfd88",
   "metadata": {},
   "outputs": [],
   "source": [
    "nome = None\n",
    "print(nome is not None)"
   ]
  },
  {
   "cell_type": "code",
   "execution_count": null,
   "id": "ba4fc15f",
   "metadata": {},
   "outputs": [],
   "source": [
    "nomes = ['GABRIEL', 'Nat']\n",
    "\n",
    "print('gabriel'.upper() in nomes)"
   ]
  },
  {
   "cell_type": "code",
   "execution_count": null,
   "id": "1174ca11",
   "metadata": {},
   "outputs": [],
   "source": [
    "nomes = ['GABRIEL', 'Nat']\n",
    "\n",
    "print('Pedro' not in nomes)"
   ]
  },
  {
   "cell_type": "code",
   "execution_count": null,
   "id": "fda1ed1e",
   "metadata": {},
   "outputs": [],
   "source": [
    "1 == 1 and 2 == 3"
   ]
  },
  {
   "cell_type": "code",
   "execution_count": null,
   "id": "f5207ac4",
   "metadata": {},
   "outputs": [],
   "source": [
    "1 == 1 or 2 == 3"
   ]
  },
  {
   "cell_type": "markdown",
   "id": "94ddda6f",
   "metadata": {},
   "source": [
    "# Estruturas condicionais"
   ]
  },
  {
   "cell_type": "markdown",
   "id": "dcdd6980",
   "metadata": {},
   "source": [
    "O entendimento da sintaxe é escrita dessa forma (Pseudocódigo):\n",
    "\n",
    "problema:\n",
    "    - Como saber se um estudante com a nota 70 no TOEFL foi admitido na University of Washington. A nota mínima para entrar nessa universidade é 76. Lembrando que os estudantes que tirarem entre 71 e 75 podem ter chances de fazerem a prova do TOEFL na universidade novamente\n",
    "\n",
    "```\n",
    "nota = 70\n",
    "\n",
    "se nota > 75:\n",
    "    aluno admitido\n",
    "   \n",
    "caso contrário se nota > 70 e nota < 76:\n",
    "    aluno em exame\n",
    "    \n",
    "senão:\n",
    "    aluno não admitido\n",
    "```"
   ]
  },
  {
   "cell_type": "code",
   "execution_count": null,
   "id": "813a8960",
   "metadata": {},
   "outputs": [],
   "source": [
    "nota = 70\n",
    "\n",
    "if nota > 75:\n",
    "    print('aluno admitido')\n",
    "elif nota > 70 and nota < 76:\n",
    "    print('aluno em exame')\n",
    "else:\n",
    "    print('aluno não admitido')"
   ]
  },
  {
   "cell_type": "markdown",
   "id": "a81a8e15",
   "metadata": {},
   "source": [
    "### Desafio 1"
   ]
  },
  {
   "cell_type": "code",
   "execution_count": null,
   "id": "8b85cb19",
   "metadata": {},
   "outputs": [],
   "source": [
    "texto = \"\"\"Em linguística, a noção de texto é ampla e ainda aberta a uma definição mais precisa. \n",
    "Grosso modo, pode ser entendido como manifestação linguística das ideias de um autor, que serão \n",
    "interpretadas pelo leitor de acordo com seus conhecimentos linguísticos e culturais. Seu tamanho é variável.\"\"\""
   ]
  },
  {
   "cell_type": "markdown",
   "id": "67fda3ba",
   "metadata": {},
   "source": [
    "Através da variável texto acima, faça um programa que verifique a quantidade de vezes  que a palavra 'linguística' aparece no texto.\n",
    "\n",
    "se for maior do que 3 imprima, 'Possuí muitas palavras linguísticas no texto', caso contrário não imprima nada."
   ]
  },
  {
   "cell_type": "code",
   "execution_count": null,
   "id": "d197dd13",
   "metadata": {},
   "outputs": [],
   "source": [
    "if texto.count('linguística') > 3:\n",
    "    print('Possuí muitas palavras linguísticas no texto')"
   ]
  },
  {
   "cell_type": "markdown",
   "id": "a3150d98",
   "metadata": {},
   "source": [
    "Faça um programa que peça dois números inteiros e imprima o maior deles."
   ]
  },
  {
   "cell_type": "code",
   "execution_count": 5,
   "id": "ccb7772b",
   "metadata": {},
   "outputs": [
    {
     "name": "stdout",
     "output_type": "stream",
     "text": [
      "Digite o primeiro valor: 10\n",
      "Digite o segundo valor: -1\n",
      "10\n"
     ]
    }
   ],
   "source": [
    "numero_1 = int(input('Digite o primeiro valor: '))\n",
    "numero_2 =  int(input('Digite o segundo valor: '))\n",
    "    \n",
    "if numero_1 > numero_2:\n",
    "    print(numero_1)\n",
    "else:\n",
    "    print(numero_2)"
   ]
  },
  {
   "cell_type": "markdown",
   "id": "460883c8",
   "metadata": {},
   "source": [
    "Faça um programa que peça um email e uma senha, se o email for 'teste@teste.com' e a senha for '123456' imprima: 'login realizado com sucesso', caso contrário imprima: 'credenciais inválidas'."
   ]
  },
  {
   "cell_type": "code",
   "execution_count": 6,
   "id": "12ee214b",
   "metadata": {},
   "outputs": [
    {
     "name": "stdout",
     "output_type": "stream",
     "text": [
      "Email: teste@teste.com\n",
      "senha: 123456\n",
      "login realizado com sucesso\n"
     ]
    }
   ],
   "source": [
    "email = input('Email: ')\n",
    "senha = input('senha: ')\n",
    "\n",
    "if (email == 'teste@teste.com') and (senha == '123456'):\n",
    "    print('login realizado com sucesso')\n",
    "else:\n",
    "    print('credenciais inválidas')"
   ]
  },
  {
   "cell_type": "markdown",
   "id": "25d2b504",
   "metadata": {},
   "source": [
    "Faça um script que peça um valor e mostre na tela se o valor é positivo ou negativo."
   ]
  },
  {
   "cell_type": "code",
   "execution_count": null,
   "id": "4b7fe779",
   "metadata": {},
   "outputs": [],
   "source": [
    "valor = float(input('digite um valor: '))\n",
    "if valor < 0:\n",
    "    print('NEGATIVO')\n",
    "else:\n",
    "    print('POSITIVO')"
   ]
  },
  {
   "cell_type": "markdown",
   "id": "5c1aad03",
   "metadata": {},
   "source": [
    "Faça um programa que imprima se um valor é par ou ímpar."
   ]
  },
  {
   "cell_type": "code",
   "execution_count": null,
   "id": "daf50238",
   "metadata": {},
   "outputs": [],
   "source": [
    "valor = float(input('digite um valor: '))\n",
    "\n",
    "if valor % 2 == 0:\n",
    "    print('PAR')\n",
    "else:\n",
    "    print('IMPAR')"
   ]
  },
  {
   "cell_type": "markdown",
   "id": "fcb138be",
   "metadata": {},
   "source": [
    "## Desafio 2"
   ]
  },
  {
   "cell_type": "markdown",
   "id": "52af2056",
   "metadata": {},
   "source": [
    "Crie um programa que verifique se uma pessoa pode solicitar empréstimo.\n",
    "\n",
    "- Para que um empréstimo seja aprovado, o usuário deve ter entre 18 e 65 anos de idade, além de ter uma renda mensal três vezes maior que uma parcela do empréstimo.\n",
    "\n",
    "- Nesse sistema, o usuário escolhe o valor desejado para empréstimo e a quantidade de parcelas. O sistema não cobra juros no empréstimo."
   ]
  },
  {
   "cell_type": "code",
   "execution_count": 11,
   "id": "9ebf0666",
   "metadata": {},
   "outputs": [
    {
     "name": "stdout",
     "output_type": "stream",
     "text": [
      "qual sua idade? 19\n",
      "digite sua renda mensal: 200\n",
      "digite o valor do empréstimo: 1000000\n",
      "digite a quantidade de parcelas: 2\n",
      "O status do seu empréstimo é:  NEGADO\n",
      "motivo: RENDA MENSAL DEVE SER 3x MAIOR QUE PARCELAS\n"
     ]
    }
   ],
   "source": [
    "idade = int(input('qual sua idade? '))\n",
    "status = None\n",
    "motivo = None\n",
    "\n",
    "if idade >= 18 and idade <= 65:\n",
    "    renda_mensal = float(input('digite sua renda mensal: '))\n",
    "    valor_emprestimo = float(input('digite o valor do empréstimo: '))\n",
    "    qtd_parcelas = int(input('digite a quantidade de parcelas: '))\n",
    "    \n",
    "    valor_emprestimo_por_parcelas = valor_emprestimo / qtd_parcelas\n",
    "    \n",
    "    if renda_mensal * 3 < valor_emprestimo_por_parcelas:\n",
    "        status = 'NEGADO'\n",
    "        motivo = 'RENDA MENSAL DEVE SER 3x MAIOR QUE PARCELAS'\n",
    "    else:\n",
    "        status = 'APROVADO'\n",
    "\n",
    "else:\n",
    "    status = 'NEGADO'\n",
    "    motivo = 'IDADE'\n",
    "\n",
    "\n",
    "print('O status do seu empréstimo é: ', status)\n",
    "\n",
    "if motivo:\n",
    "    print('motivo:', motivo)\n",
    "\n",
    "    \n",
    "    "
   ]
  },
  {
   "cell_type": "code",
   "execution_count": null,
   "id": "4202bfe0",
   "metadata": {},
   "outputs": [],
   "source": []
  }
 ],
 "metadata": {
  "kernelspec": {
   "display_name": "Python 3",
   "language": "python",
   "name": "python3"
  },
  "language_info": {
   "codemirror_mode": {
    "name": "ipython",
    "version": 3
   },
   "file_extension": ".py",
   "mimetype": "text/x-python",
   "name": "python",
   "nbconvert_exporter": "python",
   "pygments_lexer": "ipython3",
   "version": "3.8.8"
  }
 },
 "nbformat": 4,
 "nbformat_minor": 5
}
